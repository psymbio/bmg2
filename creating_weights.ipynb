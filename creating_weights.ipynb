{
 "cells": [
  {
   "cell_type": "code",
   "execution_count": 7,
   "id": "49606867",
   "metadata": {},
   "outputs": [],
   "source": [
    "import numpy as np\n",
    "import pandas as pd\n",
    "#from sklearn.decomposition import PCA\n",
    "import matplotlib.pyplot as plt\n",
    "from operator import itemgetter\n",
    "import multiprocessing\n",
    "from functools import partial\n",
    "\n",
    "\n",
    "def element_short():\n",
    "  ELEMENTS = [\"H\", \"He\", \"Li\", \"Be\", \"B\", \"C\", \"N\", \"O\", \"F\", \"Ne\", \"Na\", \"Mg\", \"Al\", \"Si\", \"P\", \"S\", \"Cl\", \"Ar\", \"K\",\n",
    "                \"Ca\", \"Sc\", \"Ti\", \"V\", \"Cr\", \"Mn\", \"Fe\", \"Co\", \"Ni\", \"Cu\", \"Zn\", \"Ga\", \"Ge\", \"As\", \"Se\", \"Br\", \"Kr\",\n",
    "                \"Rb\", \"Sr\", \"Y\", \"Zr\", \"Nb\", \"Mo\", \"Tc\", \"Ru\", \"Rh\", \"Pd\", \"Ag\", \"Cd\", \"In\", \"Sn\", \"Sb\", \"Te\", \"I\",\n",
    "                \"Xe\", \"Cs\", \"Ba\", \"La\", \"Ce\", \"Pr\", \"Nd\", \"Pm\", \"Sm\", \"Eu\", \"Gd\", \"Tb\", \"Dy\", \"Ho\", \"Er\", \"Tm\", \"Yb\",\n",
    "                \"Lu\", \"Hf\", \"Ta\", \"W\", \"Re\", \"Os\", \"Ir\", \"Pt\", \"Au\", \"Hg\", \"Tl\", \"Pb\", \"Bi\"] #, \"Po\", \"At\", \"Rn\", \"Fr\",\n",
    "                #\"Ra\", \"Ac\", \"Th\", \"Pa\", \"U\", \"Np\", \"Pu\", \"Am\", \"Cm\", \"Bk\", \"Cf\", \"Es\", \"Fm\", \"Md\", \"No\", \"Lr\", \"Rf\",\n",
    "                #\"Db\", \"Sg\", \"Bh\", \"Hs\", \"Mt\", \"Ds\", \"Rg\", \"Cn\", \"Nh\", \"Fl\", \"Mc\", \"Lv\", \"Ts\", \"Og\"] #, \"Uue\"]\n",
    "  return ELEMENTS\n",
    "\n",
    "ELEMENTS = element_short()\n",
    "\n",
    "def cal_similarity(elements):\n",
    "  sum=0\n",
    "  N=(len(elements)-1)*len(elements)/2\n",
    "  for i in range(0,len(elements)):\n",
    "    for j in range(i+1,len(elements)):\n",
    "      veci,vecj=np.asarray(elements[i]),np.asarray(elements[j])\n",
    "      #print(\"dot: \",np.dot(veci,vecj),veci,vecj)\n",
    "      sum += np.dot(veci,vecj)/np.linalg.norm(veci)/np.linalg.norm(vecj)\n",
    "  return sum/N\n",
    "\n",
    "def batch_cal_similarity3(elements,ELEMENTS):\n",
    "  sim_all,sim_all_ordered=[],[]\n",
    "  for i in range(0,len(elements)-2):\n",
    "    for j in range(i+1,len(elements)-1):\n",
    "      for k in range(j+1,len(elements)):\n",
    "        arr=np.array([elements[i],elements[j],elements[k]])\n",
    "        system=ELEMENTS[i]+ELEMENTS[j]+ELEMENTS[k]\n",
    "        similarity=cal_similarity(arr)\n",
    "        similarity=round(similarity,4)\n",
    "        sim_all.append([system,similarity])\n",
    "        sim_all_ordered.append([system,similarity])\n",
    "  #sim_all_ordered=np.copy(sim_all)\n",
    "  sim_all_ordered.sort(key=itemgetter(1),reverse=True)\n",
    "  for i in range(0,len(sim_all)):\n",
    "    sim_all[i].append(sim_all_ordered.index(sim_all[i]))\n",
    "    #print(\"alloy, similarity: \",sim_all[i])\n",
    "  return sim_all"
   ]
  },
  {
   "cell_type": "code",
   "execution_count": 8,
   "id": "220c3325",
   "metadata": {},
   "outputs": [
    {
     "ename": "UFuncTypeError",
     "evalue": "ufunc 'multiply' did not contain a loop with signature matching types (dtype('<U2'), dtype('<U2')) -> None",
     "output_type": "error",
     "traceback": [
      "\u001b[0;31m---------------------------------------------------------------------------\u001b[0m",
      "\u001b[0;31mUFuncTypeError\u001b[0m                            Traceback (most recent call last)",
      "Input \u001b[0;32mIn [8]\u001b[0m, in \u001b[0;36m<cell line: 1>\u001b[0;34m()\u001b[0m\n\u001b[0;32m----> 1\u001b[0m \u001b[43mbatch_cal_similarity3\u001b[49m\u001b[43m(\u001b[49m\u001b[43m[\u001b[49m\u001b[38;5;124;43m\"\u001b[39;49m\u001b[38;5;124;43mCu\u001b[39;49m\u001b[38;5;124;43m\"\u001b[39;49m\u001b[43m,\u001b[49m\u001b[43m \u001b[49m\u001b[38;5;124;43m\"\u001b[39;49m\u001b[38;5;124;43mZr\u001b[39;49m\u001b[38;5;124;43m\"\u001b[39;49m\u001b[43m,\u001b[49m\u001b[43m \u001b[49m\u001b[38;5;124;43m\"\u001b[39;49m\u001b[38;5;124;43mTi\u001b[39;49m\u001b[38;5;124;43m\"\u001b[39;49m\u001b[43m]\u001b[49m\u001b[43m,\u001b[49m\u001b[43m \u001b[49m\u001b[43mELEMENTS\u001b[49m\u001b[43m)\u001b[49m\n",
      "Input \u001b[0;32mIn [7]\u001b[0m, in \u001b[0;36mbatch_cal_similarity3\u001b[0;34m(elements, ELEMENTS)\u001b[0m\n\u001b[1;32m     36\u001b[0m arr\u001b[38;5;241m=\u001b[39mnp\u001b[38;5;241m.\u001b[39marray([elements[i],elements[j],elements[k]])\n\u001b[1;32m     37\u001b[0m system\u001b[38;5;241m=\u001b[39mELEMENTS[i]\u001b[38;5;241m+\u001b[39mELEMENTS[j]\u001b[38;5;241m+\u001b[39mELEMENTS[k]\n\u001b[0;32m---> 38\u001b[0m similarity\u001b[38;5;241m=\u001b[39m\u001b[43mcal_similarity\u001b[49m\u001b[43m(\u001b[49m\u001b[43marr\u001b[49m\u001b[43m)\u001b[49m\n\u001b[1;32m     39\u001b[0m similarity\u001b[38;5;241m=\u001b[39m\u001b[38;5;28mround\u001b[39m(similarity,\u001b[38;5;241m4\u001b[39m)\n\u001b[1;32m     40\u001b[0m sim_all\u001b[38;5;241m.\u001b[39mappend([system,similarity])\n",
      "Input \u001b[0;32mIn [7]\u001b[0m, in \u001b[0;36mcal_similarity\u001b[0;34m(elements)\u001b[0m\n\u001b[1;32m     26\u001b[0m     veci,vecj\u001b[38;5;241m=\u001b[39mnp\u001b[38;5;241m.\u001b[39masarray(elements[i]),np\u001b[38;5;241m.\u001b[39masarray(elements[j])\n\u001b[1;32m     27\u001b[0m     \u001b[38;5;66;03m#print(\"dot: \",np.dot(veci,vecj),veci,vecj)\u001b[39;00m\n\u001b[0;32m---> 28\u001b[0m     \u001b[38;5;28msum\u001b[39m \u001b[38;5;241m+\u001b[39m\u001b[38;5;241m=\u001b[39m \u001b[43mnp\u001b[49m\u001b[38;5;241;43m.\u001b[39;49m\u001b[43mdot\u001b[49m\u001b[43m(\u001b[49m\u001b[43mveci\u001b[49m\u001b[43m,\u001b[49m\u001b[43mvecj\u001b[49m\u001b[43m)\u001b[49m\u001b[38;5;241m/\u001b[39mnp\u001b[38;5;241m.\u001b[39mlinalg\u001b[38;5;241m.\u001b[39mnorm(veci)\u001b[38;5;241m/\u001b[39mnp\u001b[38;5;241m.\u001b[39mlinalg\u001b[38;5;241m.\u001b[39mnorm(vecj)\n\u001b[1;32m     29\u001b[0m \u001b[38;5;28;01mreturn\u001b[39;00m \u001b[38;5;28msum\u001b[39m\u001b[38;5;241m/\u001b[39mN\n",
      "File \u001b[0;32m<__array_function__ internals>:180\u001b[0m, in \u001b[0;36mdot\u001b[0;34m(*args, **kwargs)\u001b[0m\n",
      "\u001b[0;31mUFuncTypeError\u001b[0m: ufunc 'multiply' did not contain a loop with signature matching types (dtype('<U2'), dtype('<U2')) -> None"
     ]
    }
   ],
   "source": [
    "batch_cal_similarity3([\"Cu\", \"Zr\", \"Ti\"], ELEMENTS)"
   ]
  },
  {
   "cell_type": "code",
   "execution_count": null,
   "id": "51d0c73c",
   "metadata": {},
   "outputs": [],
   "source": []
  }
 ],
 "metadata": {
  "kernelspec": {
   "display_name": "Python 3 (ipykernel)",
   "language": "python",
   "name": "python3"
  },
  "language_info": {
   "codemirror_mode": {
    "name": "ipython",
    "version": 3
   },
   "file_extension": ".py",
   "mimetype": "text/x-python",
   "name": "python",
   "nbconvert_exporter": "python",
   "pygments_lexer": "ipython3",
   "version": "3.8.10"
  }
 },
 "nbformat": 4,
 "nbformat_minor": 5
}
