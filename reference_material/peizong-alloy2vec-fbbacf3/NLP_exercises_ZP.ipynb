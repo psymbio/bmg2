{
 "cells": [
  {
   "cell_type": "code",
   "execution_count": null,
   "id": "137ec669",
   "metadata": {},
   "outputs": [],
   "source": [
    "#The first step is to collect data. Here we take a one-sentence example to \n",
    "#demonstrate the simplest text preprocessing before model training.\n",
    "\n",
    "\n",
    "#one of the key concept in NLP is tokenize, i.e., split sentences into words.\n",
    "#This cell and the following will show how this is achieved with gensim and a \n",
    "#toolkit that I developed.\n",
    "\n",
    "from alloy2vec.processing import MaterialsTextProcessor\n",
    "text_processor = MaterialsTextProcessor()\n",
    "text_processor.process(\"New York University is one of the best universities in the world.\")"
   ]
  },
  {
   "cell_type": "code",
   "execution_count": 8,
   "id": "9f6606aa",
   "metadata": {},
   "outputs": [
    {
     "name": "stdout",
     "output_type": "stream",
     "text": [
      "Defaulting to user installation because normal site-packages is not writeable\n",
      "Requirement already satisfied: pip in /home/vanilla_skies/.local/lib/python3.8/site-packages (23.2.1)\n",
      "\u001b[33mDEPRECATION: omegaconf 2.0.6 has a non-standard dependency specifier PyYAML>=5.1.*. pip 23.3 will enforce this behaviour change. A possible replacement is to upgrade to a newer version of omegaconf or contact the author to suggest that they release a version with a conforming dependency specifiers. Discussion can be found at https://github.com/pypa/pip/issues/12063\u001b[0m\u001b[33m\n",
      "\u001b[0m\u001b[33mDEPRECATION: cp-ratings-mod alpha has a non-standard version number. pip 23.3 will enforce this behaviour change. A possible replacement is to upgrade to a newer version of cp-ratings-mod or contact the author to suggest that they release a version with a conforming version number. Discussion can be found at https://github.com/pypa/pip/issues/12063\u001b[0m\u001b[33m\n",
      "\u001b[0m\u001b[33mDEPRECATION: distro-info 0.23ubuntu1 has a non-standard version number. pip 23.3 will enforce this behaviour change. A possible replacement is to upgrade to a newer version of distro-info or contact the author to suggest that they release a version with a conforming version number. Discussion can be found at https://github.com/pypa/pip/issues/12063\u001b[0m\u001b[33m\n",
      "\u001b[0m\u001b[33mDEPRECATION: python-debian 0.1.36ubuntu1 has a non-standard version number. pip 23.3 will enforce this behaviour change. A possible replacement is to upgrade to a newer version of python-debian or contact the author to suggest that they release a version with a conforming version number. Discussion can be found at https://github.com/pypa/pip/issues/12063\u001b[0m\u001b[33m\n",
      "\u001b[0mDefaulting to user installation because normal site-packages is not writeable\n",
      "Requirement already satisfied: pyopenssl in /usr/lib/python3/dist-packages (19.0.0)\n",
      "Collecting pyopenssl\n",
      "  Obtaining dependency information for pyopenssl from https://files.pythonhosted.org/packages/f0/e2/f8b4f1c67933a4907e52228241f4bd52169f3196b70af04403b29c63238a/pyOpenSSL-23.2.0-py3-none-any.whl.metadata\n",
      "  Downloading pyOpenSSL-23.2.0-py3-none-any.whl.metadata (10 kB)\n",
      "Requirement already satisfied: cryptography!=40.0.0,!=40.0.1,<42,>=38.0.0 in /home/vanilla_skies/.local/lib/python3.8/site-packages (from pyopenssl) (41.0.2)\n",
      "Requirement already satisfied: cffi>=1.12 in /home/vanilla_skies/.local/lib/python3.8/site-packages (from cryptography!=40.0.0,!=40.0.1,<42,>=38.0.0->pyopenssl) (1.15.0)\n",
      "Requirement already satisfied: pycparser in /home/vanilla_skies/.local/lib/python3.8/site-packages (from cffi>=1.12->cryptography!=40.0.0,!=40.0.1,<42,>=38.0.0->pyopenssl) (2.21)\n",
      "Downloading pyOpenSSL-23.2.0-py3-none-any.whl (59 kB)\n",
      "\u001b[2K   \u001b[90m━━━━━━━━━━━━━━━━━━━━━━━━━━━━━━━━━━━━━━━━\u001b[0m \u001b[32m59.0/59.0 kB\u001b[0m \u001b[31m2.6 MB/s\u001b[0m eta \u001b[36m0:00:00\u001b[0m\n",
      "\u001b[?25h\u001b[33mDEPRECATION: omegaconf 2.0.6 has a non-standard dependency specifier PyYAML>=5.1.*. pip 23.3 will enforce this behaviour change. A possible replacement is to upgrade to a newer version of omegaconf or contact the author to suggest that they release a version with a conforming dependency specifiers. Discussion can be found at https://github.com/pypa/pip/issues/12063\u001b[0m\u001b[33m\n",
      "\u001b[0m\u001b[33mDEPRECATION: cp-ratings-mod alpha has a non-standard version number. pip 23.3 will enforce this behaviour change. A possible replacement is to upgrade to a newer version of cp-ratings-mod or contact the author to suggest that they release a version with a conforming version number. Discussion can be found at https://github.com/pypa/pip/issues/12063\u001b[0m\u001b[33m\n",
      "\u001b[0m\u001b[33mDEPRECATION: distro-info 0.23ubuntu1 has a non-standard version number. pip 23.3 will enforce this behaviour change. A possible replacement is to upgrade to a newer version of distro-info or contact the author to suggest that they release a version with a conforming version number. Discussion can be found at https://github.com/pypa/pip/issues/12063\u001b[0m\u001b[33m\n",
      "\u001b[0m\u001b[33mDEPRECATION: python-debian 0.1.36ubuntu1 has a non-standard version number. pip 23.3 will enforce this behaviour change. A possible replacement is to upgrade to a newer version of python-debian or contact the author to suggest that they release a version with a conforming version number. Discussion can be found at https://github.com/pypa/pip/issues/12063\u001b[0m\u001b[33m\n",
      "\u001b[0mInstalling collected packages: pyopenssl\n",
      "Successfully installed pyopenssl-23.2.0\n"
     ]
    }
   ],
   "source": [
    "# !pip install unidecode chemdataextractor gensim\n",
    "!pip install pip --upgrade\n",
    "!pip install pyopenssl --upgrade"
   ]
  },
  {
   "cell_type": "code",
   "execution_count": null,
   "id": "b6146a24",
   "metadata": {},
   "outputs": [],
   "source": [
    "# tokenize sentences directly using gensim\n",
    "\n",
    "from gensim.utils import tokenize\n",
    "list(tokenize(\"New York University is one of the best universities in the world.\"))"
   ]
  },
  {
   "cell_type": "code",
   "execution_count": null,
   "id": "bf28f444",
   "metadata": {},
   "outputs": [],
   "source": [
    "#stop words, like \"is\", \"one\", \"the\", \"of\", are not really useful when included in\n",
    "#the training dataset.\n",
    "#remove the stop words \n",
    "from gensim.parsing.preprocessing import remove_stopwords,strip_punctuation\n",
    "remove_stopwords(\"New York University is one of the best universities in the world.\")"
   ]
  },
  {
   "cell_type": "code",
   "execution_count": null,
   "id": "f591535f",
   "metadata": {},
   "outputs": [],
   "source": [
    "#similarly, punctuations like \",\", \".\", are also not important to include.\n",
    "\n",
    "words_no_stopwords=remove_stopwords(\"New York University is one of the best universities in the world.\")\n",
    "strip_punctuation(words_no_stopwords)"
   ]
  },
  {
   "cell_type": "code",
   "execution_count": null,
   "id": "d27e476b",
   "metadata": {},
   "outputs": [],
   "source": [
    "#Let's look at the tokenized words again after text preprocessed.\n",
    "\n",
    "words_no_stopwords_punctuation=strip_punctuation(words_no_stopwords)\n",
    "text_processor.process(words_no_stopwords_punctuation)"
   ]
  },
  {
   "cell_type": "code",
   "execution_count": null,
   "id": "d70c1b1b",
   "metadata": {},
   "outputs": [],
   "source": [
    "# we skip the time-consuming data training\n",
    "# Let's try on one model that I trained.\n",
    "\n",
    "#load the model. May take a while, given the model's large size.\n",
    "from gensim.models import Word2Vec \n",
    "w2v_model =Word2Vec.load(\"alloy2vec/training/models/model_121520\") "
   ]
  },
  {
   "cell_type": "code",
   "execution_count": null,
   "id": "cb7c6bcb",
   "metadata": {},
   "outputs": [],
   "source": [
    "#let's have a look at the one-dimentional word vector and its dimensional size\n",
    "\n",
    "word=\"excellent\"\n",
    "print(\"word vector of \"+str(word)+\" :\", w2v_model.wv.get_vector(word))\n",
    "print(\"dimension size:\", len(w2v_model.wv.get_vector(word)))"
   ]
  },
  {
   "cell_type": "code",
   "execution_count": null,
   "id": "59f5a69f",
   "metadata": {},
   "outputs": [],
   "source": [
    "# one simple example to check the most similar words of \"excellent\"\n",
    "# try different words if you like. If the word is not included in the\n",
    "# vocabulary, it may complains. Then, try a different one.\n",
    "word=\"excellent\"\n",
    "w2v_model.wv.most_similar(word)"
   ]
  },
  {
   "cell_type": "code",
   "execution_count": null,
   "id": "f679f517",
   "metadata": {},
   "outputs": [],
   "source": [
    "import matplotlib.pyplot as plt\n",
    "import numpy as np\n",
    "\n",
    "a=w2v_model.wv.most_similar(word,topn=20) #200\n",
    "word_candidates,cosine_similarity=[],[]\n",
    "print(a)\n",
    "for i in range(0,20): #len(a)):\n",
    "  word_candidates.append(a[i*1][0])\n",
    "  cosine_similarity.append(a[i*1][1])\n",
    "word_num=np.arange(len(word_candidates))\n",
    "fig, ax = plt.subplots()\n",
    "ax.barh(word_num, cosine_similarity,color='blue', align='center') #color='#0504aa',\n",
    "ax.set_yticks(word_num)\n",
    "ax.set_yticklabels(word_candidates)\n",
    "ax.invert_yaxis()  # labels read top-to-bottom\n",
    "plt.xlim((0.4,0.95))\n",
    "ax.set_xlabel('cosine similarity')\n",
    "ax.set_title('Ranking of cosine similarity for'+' \"'+word+'\"')"
   ]
  },
  {
   "cell_type": "code",
   "execution_count": null,
   "id": "650a1d71",
   "metadata": {},
   "outputs": [],
   "source": [
    "# try some chemical concept:\n",
    "# the full name of chemical elements.\n",
    "\n",
    "w2v_model.wv.most_similar(\n",
    "    positive=[\"magnesium\", \"Fe\"], \n",
    "    negative=[\"Mg\"], topn=1)"
   ]
  },
  {
   "cell_type": "code",
   "execution_count": null,
   "id": "f5ac4847",
   "metadata": {},
   "outputs": [],
   "source": []
  }
 ],
 "metadata": {
  "kernelspec": {
   "display_name": "Python 3 (ipykernel)",
   "language": "python",
   "name": "python3"
  },
  "language_info": {
   "codemirror_mode": {
    "name": "ipython",
    "version": 3
   },
   "file_extension": ".py",
   "mimetype": "text/x-python",
   "name": "python",
   "nbconvert_exporter": "python",
   "pygments_lexer": "ipython3",
   "version": "3.8.10"
  }
 },
 "nbformat": 4,
 "nbformat_minor": 5
}
