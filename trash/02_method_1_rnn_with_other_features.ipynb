{
 "cells": [
  {
   "cell_type": "code",
   "execution_count": null,
   "id": "db7ff9fc",
   "metadata": {},
   "outputs": [],
   "source": [
    "import pandas as pd\n",
    "from utils.alloys import prepare_params"
   ]
  },
  {
   "cell_type": "code",
   "execution_count": null,
   "id": "7fd6f8e7",
   "metadata": {},
   "outputs": [],
   "source": [
    "df_train = pd.read_excel(\"dataset_rnn_method_1.xlsx\", sheet_name=\"train\")\n",
    "df_test = pd.read_excel(\"dataset_rnn_method_1.xlsx\", sheet_name=\"test\")\n",
    "display(df_train)\n",
    "display(df_test)"
   ]
  },
  {
   "cell_type": "code",
   "execution_count": null,
   "id": "0e2e5ba3",
   "metadata": {},
   "outputs": [],
   "source": [
    "def make_params_df(df):\n",
    "    h_mix_values = []\n",
    "    s_mix_values = []\n",
    "    delta_e_values = []\n",
    "    delta_d_values = []\n",
    "    for index, row in df.iterrows():\n",
    "        h_mix, s_mix, delta_d, delta_e, max_element = prepare_params(row[\"bmg_alloy\"])\n",
    "        if h_mix != None and s_mix != None and delta_d != None and delta_e != None:\n",
    "            h_mix_values.append(h_mix)\n",
    "            s_mix_values.append(s_mix)\n",
    "            delta_d_values.append(delta_d)\n",
    "            delta_e_values.append(delta_e)\n",
    "        else:\n",
    "            print(\"SOMETHING IS WRONG WITH ALLOY\")\n",
    "            h_mix_values.append(h_mix)\n",
    "            s_mix_values.append(s_mix)\n",
    "            delta_d_values.append(delta_d)\n",
    "            delta_e_values.append(delta_e)\n",
    "    \n",
    "    df['h_mix'] = h_mix_values\n",
    "    df['s_mix'] = s_mix_values\n",
    "    df['delta_d'] = delta_d_values\n",
    "    df['delta_e'] = delta_e_values\n",
    "    return df"
   ]
  },
  {
   "cell_type": "code",
   "execution_count": null,
   "id": "b88ddd18",
   "metadata": {},
   "outputs": [],
   "source": [
    "df_train_with_params = make_params_df(df_train)\n",
    "display(df_train_with_params)"
   ]
  },
  {
   "cell_type": "code",
   "execution_count": null,
   "id": "90ff73c2",
   "metadata": {},
   "outputs": [],
   "source": [
    "df_test_with_params = make_params_df(df_test)\n",
    "display(df_test_with_params)"
   ]
  },
  {
   "cell_type": "code",
   "execution_count": null,
   "id": "e5b7678d",
   "metadata": {},
   "outputs": [],
   "source": [
    "from utils.ml import run_all_regressors, run_all_regressors_with_transformers"
   ]
  },
  {
   "cell_type": "code",
   "execution_count": null,
   "id": "ad44af58",
   "metadata": {},
   "outputs": [],
   "source": [
    "X_train = df_train_with_params[['rnn_encoding', 'h_mix', 's_mix', 'delta_d', 'delta_e']]\n",
    "y_train = df_train_with_params[['actual_d_max']]\n",
    "\n",
    "X_test = df_test_with_params[['rnn_encoding', 'h_mix', 's_mix', 'delta_d', 'delta_e']]\n",
    "y_test = df_test_with_params[['actual_d_max']]"
   ]
  },
  {
   "cell_type": "code",
   "execution_count": null,
   "id": "b21680dd",
   "metadata": {},
   "outputs": [],
   "source": [
    "run_all_regressors(X_train=X_train, y_train=y_train, X_test=X_test, y_test=y_test)"
   ]
  },
  {
   "cell_type": "code",
   "execution_count": null,
   "id": "465f1280",
   "metadata": {},
   "outputs": [],
   "source": [
    "run_all_regressors_with_transformers(X_train=X_train, y_train=y_train, X_test=X_test, y_test=y_test)"
   ]
  },
  {
   "cell_type": "code",
   "execution_count": null,
   "id": "6a4c5374",
   "metadata": {},
   "outputs": [],
   "source": []
  }
 ],
 "metadata": {
  "kernelspec": {
   "display_name": "Python 3 (ipykernel)",
   "language": "python",
   "name": "python3"
  },
  "language_info": {
   "codemirror_mode": {
    "name": "ipython",
    "version": 3
   },
   "file_extension": ".py",
   "mimetype": "text/x-python",
   "name": "python",
   "nbconvert_exporter": "python",
   "pygments_lexer": "ipython3",
   "version": "3.8.10"
  }
 },
 "nbformat": 4,
 "nbformat_minor": 5
}
