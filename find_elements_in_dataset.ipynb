{
 "cells": [
  {
   "cell_type": "code",
   "execution_count": 11,
   "id": "c3fd37b1",
   "metadata": {},
   "outputs": [],
   "source": [
    "import pandas as pd\n",
    "from utils.alloys import get_elements_and_compositions, element_to_index\n",
    "from PyAstronomy import pyasl\n",
    "an = pyasl.AtomicNo()"
   ]
  },
  {
   "cell_type": "code",
   "execution_count": 2,
   "id": "fa3a2ee3",
   "metadata": {},
   "outputs": [
    {
     "data": {
      "text/html": [
       "<div>\n",
       "<style scoped>\n",
       "    .dataframe tbody tr th:only-of-type {\n",
       "        vertical-align: middle;\n",
       "    }\n",
       "\n",
       "    .dataframe tbody tr th {\n",
       "        vertical-align: top;\n",
       "    }\n",
       "\n",
       "    .dataframe thead th {\n",
       "        text-align: right;\n",
       "    }\n",
       "</style>\n",
       "<table border=\"1\" class=\"dataframe\">\n",
       "  <thead>\n",
       "    <tr style=\"text-align: right;\">\n",
       "      <th></th>\n",
       "      <th>bmg_alloy</th>\n",
       "      <th>paper_sno</th>\n",
       "      <th>actual_d_max</th>\n",
       "    </tr>\n",
       "  </thead>\n",
       "  <tbody>\n",
       "    <tr>\n",
       "      <th>0</th>\n",
       "      <td>Ti7.0Cu60.0Zr33.0</td>\n",
       "      <td>[1, 5, 6, 7, 9]</td>\n",
       "      <td>3.0</td>\n",
       "    </tr>\n",
       "    <tr>\n",
       "      <th>1</th>\n",
       "      <td>Ti7.0Cu54.0Zr33.0Ag6.0</td>\n",
       "      <td>[1, 5, 6, 7, 9]</td>\n",
       "      <td>6.0</td>\n",
       "    </tr>\n",
       "    <tr>\n",
       "      <th>2</th>\n",
       "      <td>Ti7.0Cu46.4Zr35.0Ag11.6</td>\n",
       "      <td>[1, 5, 6, 7, 9]</td>\n",
       "      <td>6.0</td>\n",
       "    </tr>\n",
       "    <tr>\n",
       "      <th>3</th>\n",
       "      <td>Ti6.0Cu44.2Zr35.0Ag14.7</td>\n",
       "      <td>[1, 6]</td>\n",
       "      <td>8.0</td>\n",
       "    </tr>\n",
       "    <tr>\n",
       "      <th>4</th>\n",
       "      <td>Ti5.0Cu44.2Zr36.0Ag14.7</td>\n",
       "      <td>[1, 6]</td>\n",
       "      <td>10.0</td>\n",
       "    </tr>\n",
       "    <tr>\n",
       "      <th>...</th>\n",
       "      <td>...</td>\n",
       "      <td>...</td>\n",
       "      <td>...</td>\n",
       "    </tr>\n",
       "    <tr>\n",
       "      <th>1582</th>\n",
       "      <td>Al19.8Co19.8Cu4.95Zr54.4Ag1.0</td>\n",
       "      <td>[7]</td>\n",
       "      <td>10.0</td>\n",
       "    </tr>\n",
       "    <tr>\n",
       "      <th>1583</th>\n",
       "      <td>Al15.6Ni11.2Cu11.2La62.0</td>\n",
       "      <td>[7]</td>\n",
       "      <td>11.0</td>\n",
       "    </tr>\n",
       "    <tr>\n",
       "      <th>1584</th>\n",
       "      <td>Al14.0Co2.0Ni2.0Cu16.6Ag3.33La62.0</td>\n",
       "      <td>[7]</td>\n",
       "      <td>16.0</td>\n",
       "    </tr>\n",
       "    <tr>\n",
       "      <th>1585</th>\n",
       "      <td>Al14.0Co4.0Ni4.0Cu13.3Ag2.67La62.0</td>\n",
       "      <td>[7]</td>\n",
       "      <td>16.0</td>\n",
       "    </tr>\n",
       "    <tr>\n",
       "      <th>1586</th>\n",
       "      <td>Al14.0Co5.0Ni5.0Cu11.6Ag2.33La62.0</td>\n",
       "      <td>[7]</td>\n",
       "      <td>20.0</td>\n",
       "    </tr>\n",
       "  </tbody>\n",
       "</table>\n",
       "<p>1587 rows × 3 columns</p>\n",
       "</div>"
      ],
      "text/plain": [
       "                               bmg_alloy        paper_sno  actual_d_max\n",
       "0                      Ti7.0Cu60.0Zr33.0  [1, 5, 6, 7, 9]           3.0\n",
       "1                 Ti7.0Cu54.0Zr33.0Ag6.0  [1, 5, 6, 7, 9]           6.0\n",
       "2                Ti7.0Cu46.4Zr35.0Ag11.6  [1, 5, 6, 7, 9]           6.0\n",
       "3                Ti6.0Cu44.2Zr35.0Ag14.7           [1, 6]           8.0\n",
       "4                Ti5.0Cu44.2Zr36.0Ag14.7           [1, 6]          10.0\n",
       "...                                  ...              ...           ...\n",
       "1582       Al19.8Co19.8Cu4.95Zr54.4Ag1.0              [7]          10.0\n",
       "1583            Al15.6Ni11.2Cu11.2La62.0              [7]          11.0\n",
       "1584  Al14.0Co2.0Ni2.0Cu16.6Ag3.33La62.0              [7]          16.0\n",
       "1585  Al14.0Co4.0Ni4.0Cu13.3Ag2.67La62.0              [7]          16.0\n",
       "1586  Al14.0Co5.0Ni5.0Cu11.6Ag2.33La62.0              [7]          20.0\n",
       "\n",
       "[1587 rows x 3 columns]"
      ]
     },
     "metadata": {},
     "output_type": "display_data"
    }
   ],
   "source": [
    "df = pd.read_csv(\"final_df.csv\")\n",
    "display(df)"
   ]
  },
  {
   "cell_type": "code",
   "execution_count": 4,
   "id": "3870c4d2",
   "metadata": {},
   "outputs": [],
   "source": [
    "unique_elements = []\n",
    "for index, row in df.iterrows():\n",
    "    elements, compositions = get_elements_and_compositions(row['bmg_alloy'])\n",
    "    unique_elements.extend(elements)\n",
    "unique_elements = set(unique_elements)"
   ]
  },
  {
   "cell_type": "code",
   "execution_count": 5,
   "id": "9cfc6cdf",
   "metadata": {},
   "outputs": [
    {
     "name": "stdout",
     "output_type": "stream",
     "text": [
      "{'Sm', 'Sc', 'Fe', 'La', 'Nd', 'W', 'Mn', 'Mo', 'Ga', 'Tb', 'Pb', 'Si', 'Pr', 'Zn', 'Ca', 'Ti', 'Al', 'Ho', 'Cr', 'Mg', 'Zr', 'V', 'Bi', 'P', 'Pd', 'Y', 'C', 'Li', 'Ag', 'Ni', 'Ge', 'Lu', 'Sn', 'Co', 'In', 'Ta', 'Au', 'Pt', 'Ce', 'Cu', 'Hf', 'Gd', 'Dy', 'Tm', 'B', 'Be', 'Yb', 'Nb', 'Er'}\n"
     ]
    }
   ],
   "source": [
    "print(unique_elements)"
   ]
  },
  {
   "cell_type": "code",
   "execution_count": 7,
   "id": "1851e11c",
   "metadata": {},
   "outputs": [
    {
     "name": "stdout",
     "output_type": "stream",
     "text": [
      "{'Sm': 62, 'Sc': 21, 'Fe': 26, 'La': 57, 'Nd': 60, 'W': 74, 'Mn': 25, 'Mo': 42, 'Ga': 31, 'Tb': 65, 'Pb': 82, 'Si': 14, 'Pr': 59, 'Zn': 30, 'Ca': 20, 'Ti': 22, 'Al': 13, 'Ho': 67, 'Cr': 24, 'Mg': 12, 'Zr': 40, 'V': 23, 'Bi': 83, 'P': 15, 'Pd': 46, 'Y': 39, 'C': 6, 'Li': 3, 'Ag': 47, 'Ni': 28, 'Ge': 32, 'Lu': 71, 'Sn': 50, 'Co': 27, 'In': 49, 'Ta': 73, 'Au': 79, 'Pt': 78, 'Ce': 58, 'Cu': 29, 'Hf': 72, 'Gd': 64, 'Dy': 66, 'Tm': 69, 'B': 5, 'Be': 4, 'Yb': 70, 'Nb': 41, 'Er': 68}\n"
     ]
    }
   ],
   "source": [
    "unique_elements_with_atomic_number = {}\n",
    "for element in unique_elements:\n",
    "    unique_elements_with_atomic_number[element] = element_to_index(element)\n",
    "print(unique_elements_with_atomic_number)"
   ]
  },
  {
   "cell_type": "code",
   "execution_count": 9,
   "id": "5e42c4f9",
   "metadata": {},
   "outputs": [],
   "source": [
    "unique_elements_with_atomic_number = dict(sorted(unique_elements_with_atomic_number.items(), key=lambda item: item[1]))"
   ]
  },
  {
   "cell_type": "code",
   "execution_count": 12,
   "id": "7b841234",
   "metadata": {},
   "outputs": [
    {
     "name": "stdout",
     "output_type": "stream",
     "text": [
      "dict_values([3, 4, 5, 6, 12, 13, 14, 15, 20, 21, 22, 23, 24, 25, 26, 27, 28, 29, 30, 31, 32, 39, 40, 41, 42, 46, 47, 49, 50, 57, 58, 59, 60, 62, 64, 65, 66, 67, 68, 69, 70, 71, 72, 73, 74, 78, 79, 82, 83])\n"
     ]
    }
   ],
   "source": [
    "print(unique_elements_with_atomic_number.values())"
   ]
  },
  {
   "cell_type": "code",
   "execution_count": 14,
   "id": "ee015af4",
   "metadata": {},
   "outputs": [
    {
     "name": "stdout",
     "output_type": "stream",
     "text": [
      "Lithium, Beryllium, Boron, Carbon, Magnesium, Aluminium, Silicon, Phosphorus, Calcium, Scandium, Titanium, Vanadium, Chromium, Manganese, Iron, Cobalt, Nickel, Copper, Zinc, Gallium, Germanium, Yttrium, Zirconium, Niobium, Molybdenum, Palladium, Silver, Indium, Tin, Lanthanum, Cerium, Praseodymium, Neodymium, Samarium, Gadolinium, Terbium, Dysprosium, Holmium, Erbium, Thulium, Ytterbium, Lutetium, Hafnium, Tantalum, Tungsten, Platinum, Gold, Lead, Bismuth, "
     ]
    }
   ],
   "source": [
    "for atomic_number in unique_elements_with_atomic_number.values():\n",
    "    print(an.getElementName(atomic_number), end=\", \")"
   ]
  },
  {
   "cell_type": "code",
   "execution_count": null,
   "id": "71f6a3d1",
   "metadata": {},
   "outputs": [],
   "source": []
  }
 ],
 "metadata": {
  "kernelspec": {
   "display_name": "Python 3 (ipykernel)",
   "language": "python",
   "name": "python3"
  },
  "language_info": {
   "codemirror_mode": {
    "name": "ipython",
    "version": 3
   },
   "file_extension": ".py",
   "mimetype": "text/x-python",
   "name": "python",
   "nbconvert_exporter": "python",
   "pygments_lexer": "ipython3",
   "version": "3.8.10"
  }
 },
 "nbformat": 4,
 "nbformat_minor": 5
}
