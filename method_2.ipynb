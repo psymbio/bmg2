{
 "cells": [
  {
   "cell_type": "code",
   "execution_count": 1,
   "id": "a9e6c7e7",
   "metadata": {},
   "outputs": [
    {
     "name": "stderr",
     "output_type": "stream",
     "text": [
      "2023-10-27 14:19:21.584140: I tensorflow/core/platform/cpu_feature_guard.cc:193] This TensorFlow binary is optimized with oneAPI Deep Neural Network Library (oneDNN) to use the following CPU instructions in performance-critical operations:  AVX2 FMA\n",
      "To enable them in other operations, rebuild TensorFlow with the appropriate compiler flags.\n",
      "2023-10-27 14:19:22.982233: E tensorflow/stream_executor/cuda/cuda_blas.cc:2981] Unable to register cuBLAS factory: Attempting to register factory for plugin cuBLAS when one has already been registered\n",
      "2023-10-27 14:19:26.139806: W tensorflow/stream_executor/platform/default/dso_loader.cc:64] Could not load dynamic library 'libnvinfer.so.7'; dlerror: libnvinfer.so.7: cannot open shared object file: No such file or directory; LD_LIBRARY_PATH: /usr/local/cuda-11.0/include:/usr/local/cuda-11.0/lib64:\n",
      "2023-10-27 14:19:26.140558: W tensorflow/stream_executor/platform/default/dso_loader.cc:64] Could not load dynamic library 'libnvinfer_plugin.so.7'; dlerror: libnvinfer_plugin.so.7: cannot open shared object file: No such file or directory; LD_LIBRARY_PATH: /usr/local/cuda-11.0/include:/usr/local/cuda-11.0/lib64:\n",
      "2023-10-27 14:19:26.140589: W tensorflow/compiler/tf2tensorrt/utils/py_utils.cc:38] TF-TRT Warning: Cannot dlopen some TensorRT libraries. If you would like to use Nvidia GPU with TensorRT, please make sure the missing libraries mentioned above are installed properly.\n"
     ]
    }
   ],
   "source": [
    "from utils.alloys import vectorization_method_2\n",
    "from utils.constants import alloy_max_len\n",
    "from utils.ml import *\n",
    "from sklearn.model_selection import train_test_split\n",
    "import matplotlib.pyplot as plt\n",
    "import seaborn as sns"
   ]
  },
  {
   "cell_type": "code",
   "execution_count": 3,
   "id": "deb6c0da",
   "metadata": {},
   "outputs": [],
   "source": [
    "df = pd.read_csv(\"final_df.csv\")\n",
    "X = []\n",
    "for alloy in df[\"bmg_alloy\"]:\n",
    "    X.append(vectorization_method_2(alloy))\n",
    "y = df[\"actual_d_max\"]"
   ]
  },
  {
   "cell_type": "code",
   "execution_count": 4,
   "id": "5f7bc153",
   "metadata": {},
   "outputs": [
    {
     "name": "stdout",
     "output_type": "stream",
     "text": [
      "Ti7.0Cu60.0Zr33.0\n",
      "[ 0  0  0  0  0  0  0  0  0  0  0  0  0  0  0  0  0  0  0  0  0  0  7  0\n",
      "  0  0  0  0  0 60  0  0  0  0  0  0  0  0  0  0 33  0  0  0  0  0  0  0\n",
      "  0  0  0  0  0  0  0  0  0  0  0  0  0  0  0  0  0  0  0  0  0  0  0  0\n",
      "  0  0  0  0  0  0  0  0  0  0  0  0  0  0  0  0  0  0  0  0  0  0  0  0\n",
      "  0  0  0  0  0  0  0  0  0  0  0  0  0  0  0  0  0  0  0  0  0  0]\n",
      "3\n"
     ]
    }
   ],
   "source": [
    "X = np.array(X, dtype=np.int32)\n",
    "y = np.array(y, dtype=np.int32)\n",
    "\n",
    "# have a look at if the vectorization was done correctly - everything was as expected\n",
    "print(df[\"bmg_alloy\"][0])\n",
    "print(X[0])\n",
    "print(y[0])"
   ]
  },
  {
   "cell_type": "code",
   "execution_count": 5,
   "id": "e36cc679",
   "metadata": {},
   "outputs": [],
   "source": [
    "INPUT_LENGTH = 118\n",
    "EPOCHS = 4000"
   ]
  },
  {
   "cell_type": "code",
   "execution_count": 6,
   "id": "b251c125",
   "metadata": {},
   "outputs": [
    {
     "name": "stdout",
     "output_type": "stream",
     "text": [
      "(1269, 118) (318, 118) (1269,) (318,)\n"
     ]
    }
   ],
   "source": [
    "X_train, X_test, y_train, y_test = train_test_split(X, y, test_size=0.2, random_state=42)\n",
    "print(X_train.shape, X_test.shape, y_train.shape, y_test.shape)"
   ]
  },
  {
   "cell_type": "code",
   "execution_count": 7,
   "id": "8ede2382",
   "metadata": {},
   "outputs": [],
   "source": [
    "def test(model, epochs, layer_name=None, test_all=True):\n",
    "    tf.random.set_seed(42)\n",
    "    model.compile(optimizer=\"adam\", loss=\"mean_squared_error\")\n",
    "    global X_train, X_test, y_train, y_test\n",
    "    history = model.fit(X_train, y_train, verbose=0, epochs=epochs, batch_size=64, validation_data=(X_test, y_test))\n",
    "    plt.plot(history.history[\"loss\"])\n",
    "    plt.plot(history.history['val_loss'])\n",
    "    y_hat = model.predict(X_test)\n",
    "    print(f\"Sequential Model Score: {r2_score(y_test, y_hat)}\")\n",
    "    plt.figure()\n",
    "    sns.regplot(x=y_test, y=y_hat)\n",
    "\n",
    "    if (test_all == True):\n",
    "        selected_layer = model.get_layer(layer_name)\n",
    "        model_till_selected_layer = tf.keras.Model(inputs=model.input, outputs=selected_layer.output)\n",
    "        X_train_2 = model_till_selected_layer.predict(X_train)\n",
    "        X_test_2 = model_till_selected_layer.predict(X_test)\n",
    "        X_train_2 = pd.DataFrame(data=X_train_2)\n",
    "        X_test_2 = pd.DataFrame(data=X_test_2)\n",
    "        y_train_2 = pd.DataFrame(data=y_train)\n",
    "        y_test_2 = pd.DataFrame(data=y_test)\n",
    "\n",
    "        display(X_train_2)\n",
    "        display(X_test_2)\n",
    "        \n",
    "        scores = run_all_regressors_with_transformers(X_train=X_train_2, X_test=X_test_2, y_train=y_train_2, y_test=y_test_2, y_transform=True)\n",
    "        display(scores[:10])"
   ]
  },
  {
   "cell_type": "code",
   "execution_count": 8,
   "id": "4a5c5d1b",
   "metadata": {},
   "outputs": [
    {
     "name": "stdout",
     "output_type": "stream",
     "text": [
      "Model: \"sequential\"\n",
      "_________________________________________________________________\n",
      " Layer (type)                Output Shape              Param #   \n",
      "=================================================================\n",
      " dense (Dense)               (None, 64)                7616      \n",
      "                                                                 \n",
      " dense_1 (Dense)             (None, 32)                2080      \n",
      "                                                                 \n",
      " dense_2 (Dense)             (None, 1)                 33        \n",
      "                                                                 \n",
      "=================================================================\n",
      "Total params: 9,729\n",
      "Trainable params: 9,729\n",
      "Non-trainable params: 0\n",
      "_________________________________________________________________\n",
      "None\n"
     ]
    },
    {
     "name": "stderr",
     "output_type": "stream",
     "text": [
      "2023-10-27 14:24:39.833478: E tensorflow/stream_executor/cuda/cuda_driver.cc:265] failed call to cuInit: CUDA_ERROR_NO_DEVICE: no CUDA-capable device is detected\n",
      "2023-10-27 14:24:39.833777: I tensorflow/stream_executor/cuda/cuda_diagnostics.cc:156] kernel driver does not appear to be running on this host (laptop): /proc/driver/nvidia/version does not exist\n",
      "2023-10-27 14:24:39.835693: I tensorflow/core/platform/cpu_feature_guard.cc:193] This TensorFlow binary is optimized with oneAPI Deep Neural Network Library (oneDNN) to use the following CPU instructions in performance-critical operations:  AVX2 FMA\n",
      "To enable them in other operations, rebuild TensorFlow with the appropriate compiler flags.\n"
     ]
    }
   ],
   "source": [
    "model_1 = tf.keras.Sequential([\n",
    "    tf.keras.layers.Input(shape=(INPUT_LENGTH,)),\n",
    "    tf.keras.layers.Dense(64, activation='relu'),\n",
    "    tf.keras.layers.Dense(32, activation='relu'),\n",
    "    tf.keras.layers.Dense(1, activation='linear')\n",
    "])\n",
    "print(model_1.summary())"
   ]
  },
  {
   "cell_type": "code",
   "execution_count": 9,
   "id": "ab43e6fa",
   "metadata": {},
   "outputs": [
    {
     "name": "stderr",
     "output_type": "stream",
     "text": [
      "\n",
      "KeyboardInterrupt\n",
      "\n"
     ]
    }
   ],
   "source": [
    "test(model_1, EPOCHS, \"dense_1\")"
   ]
  },
  {
   "cell_type": "code",
   "execution_count": null,
   "id": "349f1824",
   "metadata": {},
   "outputs": [],
   "source": []
  }
 ],
 "metadata": {
  "kernelspec": {
   "display_name": "Python 3 (ipykernel)",
   "language": "python",
   "name": "python3"
  },
  "language_info": {
   "codemirror_mode": {
    "name": "ipython",
    "version": 3
   },
   "file_extension": ".py",
   "mimetype": "text/x-python",
   "name": "python",
   "nbconvert_exporter": "python",
   "pygments_lexer": "ipython3",
   "version": "3.8.10"
  }
 },
 "nbformat": 4,
 "nbformat_minor": 5
}
